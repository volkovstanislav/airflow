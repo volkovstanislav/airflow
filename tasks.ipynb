{
 "cells": [
  {
   "cell_type": "markdown",
   "metadata": {},
   "source": [
    "## Задача - 1. Насколько похорошела Москва"
   ]
  },
  {
   "cell_type": "markdown",
   "metadata": {},
   "source": [
    "### Импорт библиотек и загрузка данных"
   ]
  },
  {
   "cell_type": "code",
   "execution_count": 1,
   "metadata": {},
   "outputs": [],
   "source": [
    "import os\n",
    "import pandas as pd\n",
    "\n",
    "import warnings\n",
    "warnings.filterwarnings('ignore')"
   ]
  },
  {
   "cell_type": "code",
   "execution_count": 2,
   "metadata": {},
   "outputs": [
    {
     "name": "stdout",
     "output_type": "stream",
     "text": [
      "\"ID\";\"LibraryName\";\"AdmArea\";\"District\";\"Address\";\"NumberOfAccessPoints\";\"WiFiName\";\"CoverageArea\";\"FunctionFlag\";\"AccessFlag\";\"Password\";\"Latitude_WGS84\";\"Longitude_WGS84\";\"global_id\";\"geoData\";\n"
     ]
    }
   ],
   "source": [
    "! head -n 1 data/data-102277-2020-04-02.csv"
   ]
  },
  {
   "cell_type": "code",
   "execution_count": 3,
   "metadata": {},
   "outputs": [
    {
     "name": "stdout",
     "output_type": "stream",
     "text": [
      "\"ID\";\"global_id\";\"Name\";\"AdmArea\";\"District\";\"ParkName\";\"WiFiName\";\"CoverageArea\";\"FunctionFlag\";\"AccessFlag\";\"Password\";\"Longitude_WGS84\";\"Latitude_WGS84\";\"geoData\";\n"
     ]
    }
   ],
   "source": [
    "! head -n 1 data/parks.csv"
   ]
  },
  {
   "cell_type": "code",
   "execution_count": 4,
   "metadata": {},
   "outputs": [
    {
     "name": "stdout",
     "output_type": "stream",
     "text": [
      "(590, 19)\n"
     ]
    },
    {
     "data": {
      "text/html": [
       "<div>\n",
       "<style scoped>\n",
       "    .dataframe tbody tr th:only-of-type {\n",
       "        vertical-align: middle;\n",
       "    }\n",
       "\n",
       "    .dataframe tbody tr th {\n",
       "        vertical-align: top;\n",
       "    }\n",
       "\n",
       "    .dataframe thead th {\n",
       "        text-align: right;\n",
       "    }\n",
       "</style>\n",
       "<table border=\"1\" class=\"dataframe\">\n",
       "  <thead>\n",
       "    <tr style=\"text-align: right;\">\n",
       "      <th></th>\n",
       "      <th>AccessFlag</th>\n",
       "      <th>Address</th>\n",
       "      <th>AdmArea</th>\n",
       "      <th>CinemaName</th>\n",
       "      <th>CoverageArea</th>\n",
       "      <th>CulturalCenterName</th>\n",
       "      <th>District</th>\n",
       "      <th>FunctionFlag</th>\n",
       "      <th>ID</th>\n",
       "      <th>Latitude_WGS84</th>\n",
       "      <th>LibraryName</th>\n",
       "      <th>Longitude_WGS84</th>\n",
       "      <th>NumberOfAccessPoints</th>\n",
       "      <th>Password</th>\n",
       "      <th>Unnamed: 0</th>\n",
       "      <th>Unnamed: 15</th>\n",
       "      <th>WiFiName</th>\n",
       "      <th>geoData</th>\n",
       "      <th>global_id</th>\n",
       "    </tr>\n",
       "  </thead>\n",
       "  <tbody>\n",
       "    <tr>\n",
       "      <th>0</th>\n",
       "      <td>открытая сеть</td>\n",
       "      <td>город Москва, улица Боженко, дом 9</td>\n",
       "      <td>Западный административный округ</td>\n",
       "      <td>NaN</td>\n",
       "      <td>50.0</td>\n",
       "      <td>Государственное бюджетное учреждение культуры ...</td>\n",
       "      <td>район Кунцево</td>\n",
       "      <td>действует</td>\n",
       "      <td>1.0</td>\n",
       "      <td>55.732291</td>\n",
       "      <td>NaN</td>\n",
       "      <td>37.405202</td>\n",
       "      <td>1.0</td>\n",
       "      <td>NaN</td>\n",
       "      <td>NaN</td>\n",
       "      <td>NaN</td>\n",
       "      <td>Moscow_WiFi_Free</td>\n",
       "      <td>{type=Point, coordinates=[37.405202, 55.732291]}</td>\n",
       "      <td>879812827.0</td>\n",
       "    </tr>\n",
       "    <tr>\n",
       "      <th>1</th>\n",
       "      <td>открытая сеть</td>\n",
       "      <td>город Москва, Полоцкая улица, дом 16</td>\n",
       "      <td>Западный административный округ</td>\n",
       "      <td>NaN</td>\n",
       "      <td>50.0</td>\n",
       "      <td>Государственное бюджетное учреждение культуры ...</td>\n",
       "      <td>район Кунцево</td>\n",
       "      <td>действует</td>\n",
       "      <td>2.0</td>\n",
       "      <td>55.734456</td>\n",
       "      <td>NaN</td>\n",
       "      <td>37.425180</td>\n",
       "      <td>1.0</td>\n",
       "      <td>NaN</td>\n",
       "      <td>NaN</td>\n",
       "      <td>NaN</td>\n",
       "      <td>Moscow_WiFi_Free</td>\n",
       "      <td>{type=Point, coordinates=[37.42518, 55.734456]}</td>\n",
       "      <td>879812830.0</td>\n",
       "    </tr>\n",
       "  </tbody>\n",
       "</table>\n",
       "</div>"
      ],
      "text/plain": [
       "      AccessFlag                               Address  \\\n",
       "0  открытая сеть    город Москва, улица Боженко, дом 9   \n",
       "1  открытая сеть  город Москва, Полоцкая улица, дом 16   \n",
       "\n",
       "                           AdmArea CinemaName  CoverageArea  \\\n",
       "0  Западный административный округ        NaN          50.0   \n",
       "1  Западный административный округ        NaN          50.0   \n",
       "\n",
       "                                  CulturalCenterName       District  \\\n",
       "0  Государственное бюджетное учреждение культуры ...  район Кунцево   \n",
       "1  Государственное бюджетное учреждение культуры ...  район Кунцево   \n",
       "\n",
       "  FunctionFlag   ID  Latitude_WGS84 LibraryName  Longitude_WGS84  \\\n",
       "0    действует  1.0       55.732291         NaN        37.405202   \n",
       "1    действует  2.0       55.734456         NaN        37.425180   \n",
       "\n",
       "   NumberOfAccessPoints  Password Unnamed: 0  Unnamed: 15          WiFiName  \\\n",
       "0                   1.0       NaN        NaN          NaN  Moscow_WiFi_Free   \n",
       "1                   1.0       NaN        NaN          NaN  Moscow_WiFi_Free   \n",
       "\n",
       "                                            geoData    global_id  \n",
       "0  {type=Point, coordinates=[37.405202, 55.732291]}  879812827.0  \n",
       "1   {type=Point, coordinates=[37.42518, 55.734456]}  879812830.0  "
      ]
     },
     "execution_count": 4,
     "metadata": {},
     "output_type": "execute_result"
    }
   ],
   "source": [
    "#Загружаем данные (не парки)\n",
    "df = pd.concat([pd.read_csv('data/'+file, sep=';', encoding='cp1251') for file in os.listdir('data') if 'parks' not in file])\n",
    "print(df.shape)\n",
    "df.head(2)"
   ]
  },
  {
   "cell_type": "code",
   "execution_count": 5,
   "metadata": {},
   "outputs": [
    {
     "name": "stdout",
     "output_type": "stream",
     "text": [
      "(1235, 15)\n"
     ]
    },
    {
     "data": {
      "text/html": [
       "<div>\n",
       "<style scoped>\n",
       "    .dataframe tbody tr th:only-of-type {\n",
       "        vertical-align: middle;\n",
       "    }\n",
       "\n",
       "    .dataframe tbody tr th {\n",
       "        vertical-align: top;\n",
       "    }\n",
       "\n",
       "    .dataframe thead th {\n",
       "        text-align: right;\n",
       "    }\n",
       "</style>\n",
       "<table border=\"1\" class=\"dataframe\">\n",
       "  <thead>\n",
       "    <tr style=\"text-align: right;\">\n",
       "      <th></th>\n",
       "      <th>ID</th>\n",
       "      <th>global_id</th>\n",
       "      <th>Name</th>\n",
       "      <th>AdmArea</th>\n",
       "      <th>District</th>\n",
       "      <th>ParkName</th>\n",
       "      <th>WiFiName</th>\n",
       "      <th>CoverageArea</th>\n",
       "      <th>FunctionFlag</th>\n",
       "      <th>AccessFlag</th>\n",
       "      <th>Password</th>\n",
       "      <th>Longitude_WGS84</th>\n",
       "      <th>Latitude_WGS84</th>\n",
       "      <th>geoData</th>\n",
       "      <th>Unnamed: 14</th>\n",
       "    </tr>\n",
       "  </thead>\n",
       "  <tbody>\n",
       "    <tr>\n",
       "      <th>0</th>\n",
       "      <td>337</td>\n",
       "      <td>46808732</td>\n",
       "      <td>Точка доступа №337</td>\n",
       "      <td>Юго-Восточный административный округ</td>\n",
       "      <td>район Кузьминки</td>\n",
       "      <td>Государственное автономное учреждение культуры...</td>\n",
       "      <td>Moscow_WiFi_Free</td>\n",
       "      <td>20</td>\n",
       "      <td>действует</td>\n",
       "      <td>открытая сеть</td>\n",
       "      <td>NaN</td>\n",
       "      <td>37.769489</td>\n",
       "      <td>55.69501</td>\n",
       "      <td>{type=Point, coordinates=[37.769489, 55.69501]}</td>\n",
       "      <td>NaN</td>\n",
       "    </tr>\n",
       "    <tr>\n",
       "      <th>1</th>\n",
       "      <td>338</td>\n",
       "      <td>46808734</td>\n",
       "      <td>Точка доступа №338</td>\n",
       "      <td>Юго-Восточный административный округ</td>\n",
       "      <td>район Кузьминки</td>\n",
       "      <td>Государственное автономное учреждение культуры...</td>\n",
       "      <td>Moscow_WiFi_Free</td>\n",
       "      <td>20</td>\n",
       "      <td>действует</td>\n",
       "      <td>открытая сеть</td>\n",
       "      <td>NaN</td>\n",
       "      <td>37.768175</td>\n",
       "      <td>55.695218</td>\n",
       "      <td>{type=Point, coordinates=[37.768175, 55.695218]}</td>\n",
       "      <td>NaN</td>\n",
       "    </tr>\n",
       "  </tbody>\n",
       "</table>\n",
       "</div>"
      ],
      "text/plain": [
       "    ID global_id                Name                               AdmArea  \\\n",
       "0  337  46808732  Точка доступа №337  Юго-Восточный административный округ   \n",
       "1  338  46808734  Точка доступа №338  Юго-Восточный административный округ   \n",
       "\n",
       "          District                                           ParkName  \\\n",
       "0  район Кузьминки  Государственное автономное учреждение культуры...   \n",
       "1  район Кузьминки  Государственное автономное учреждение культуры...   \n",
       "\n",
       "           WiFiName CoverageArea FunctionFlag     AccessFlag Password  \\\n",
       "0  Moscow_WiFi_Free           20    действует  открытая сеть      NaN   \n",
       "1  Moscow_WiFi_Free           20    действует  открытая сеть      NaN   \n",
       "\n",
       "  Longitude_WGS84 Latitude_WGS84  \\\n",
       "0       37.769489       55.69501   \n",
       "1       37.768175      55.695218   \n",
       "\n",
       "                                            geoData  Unnamed: 14  \n",
       "0   {type=Point, coordinates=[37.769489, 55.69501]}          NaN  \n",
       "1  {type=Point, coordinates=[37.768175, 55.695218]}          NaN  "
      ]
     },
     "execution_count": 5,
     "metadata": {},
     "output_type": "execute_result"
    }
   ],
   "source": [
    "# Загружаем данные по паркам, там формат другой\n",
    "df_parks = pd.read_csv('data/parks.csv', sep=';', encoding='cp1251')\n",
    "print(df_parks.shape)\n",
    "df_parks.head(2)"
   ]
  },
  {
   "cell_type": "markdown",
   "metadata": {},
   "source": [
    "### Предобработка"
   ]
  },
  {
   "cell_type": "code",
   "execution_count": 6,
   "metadata": {},
   "outputs": [
    {
     "name": "stdout",
     "output_type": "stream",
     "text": [
      "(590, 4)\n"
     ]
    },
    {
     "data": {
      "text/html": [
       "<div>\n",
       "<style scoped>\n",
       "    .dataframe tbody tr th:only-of-type {\n",
       "        vertical-align: middle;\n",
       "    }\n",
       "\n",
       "    .dataframe tbody tr th {\n",
       "        vertical-align: top;\n",
       "    }\n",
       "\n",
       "    .dataframe thead th {\n",
       "        text-align: right;\n",
       "    }\n",
       "</style>\n",
       "<table border=\"1\" class=\"dataframe\">\n",
       "  <thead>\n",
       "    <tr style=\"text-align: right;\">\n",
       "      <th></th>\n",
       "      <th>AdmArea</th>\n",
       "      <th>District</th>\n",
       "      <th>Address</th>\n",
       "      <th>global_id</th>\n",
       "    </tr>\n",
       "  </thead>\n",
       "  <tbody>\n",
       "    <tr>\n",
       "      <th>0</th>\n",
       "      <td>Западный административный округ</td>\n",
       "      <td>район Кунцево</td>\n",
       "      <td>город Москва, улица Боженко, дом 9</td>\n",
       "      <td>879812827.0</td>\n",
       "    </tr>\n",
       "    <tr>\n",
       "      <th>1</th>\n",
       "      <td>Западный административный округ</td>\n",
       "      <td>район Кунцево</td>\n",
       "      <td>город Москва, Полоцкая улица, дом 16</td>\n",
       "      <td>879812830.0</td>\n",
       "    </tr>\n",
       "  </tbody>\n",
       "</table>\n",
       "</div>"
      ],
      "text/plain": [
       "                           AdmArea       District  \\\n",
       "0  Западный административный округ  район Кунцево   \n",
       "1  Западный административный округ  район Кунцево   \n",
       "\n",
       "                                Address    global_id  \n",
       "0    город Москва, улица Боженко, дом 9  879812827.0  \n",
       "1  город Москва, Полоцкая улица, дом 16  879812830.0  "
      ]
     },
     "execution_count": 6,
     "metadata": {},
     "output_type": "execute_result"
    }
   ],
   "source": [
    "# Отбираем необходимые поля\n",
    "df = df[['AdmArea', 'District', 'Address', 'global_id']].drop_duplicates()\n",
    "print(df.shape)\n",
    "df.head(2)"
   ]
  },
  {
   "cell_type": "code",
   "execution_count": 7,
   "metadata": {},
   "outputs": [
    {
     "data": {
      "text/plain": [
       "AdmArea      0\n",
       "District     0\n",
       "Address      0\n",
       "global_id    0\n",
       "dtype: int64"
      ]
     },
     "execution_count": 7,
     "metadata": {},
     "output_type": "execute_result"
    }
   ],
   "source": [
    "# Пропуски\n",
    "df.isnull().sum()"
   ]
  },
  {
   "cell_type": "code",
   "execution_count": 8,
   "metadata": {},
   "outputs": [
    {
     "name": "stdout",
     "output_type": "stream",
     "text": [
      "(1235, 4)\n"
     ]
    },
    {
     "data": {
      "text/html": [
       "<div>\n",
       "<style scoped>\n",
       "    .dataframe tbody tr th:only-of-type {\n",
       "        vertical-align: middle;\n",
       "    }\n",
       "\n",
       "    .dataframe tbody tr th {\n",
       "        vertical-align: top;\n",
       "    }\n",
       "\n",
       "    .dataframe thead th {\n",
       "        text-align: right;\n",
       "    }\n",
       "</style>\n",
       "<table border=\"1\" class=\"dataframe\">\n",
       "  <thead>\n",
       "    <tr style=\"text-align: right;\">\n",
       "      <th></th>\n",
       "      <th>Name</th>\n",
       "      <th>District</th>\n",
       "      <th>ParkName</th>\n",
       "      <th>global_id</th>\n",
       "    </tr>\n",
       "  </thead>\n",
       "  <tbody>\n",
       "    <tr>\n",
       "      <th>0</th>\n",
       "      <td>Точка доступа №337</td>\n",
       "      <td>район Кузьминки</td>\n",
       "      <td>Государственное автономное учреждение культуры...</td>\n",
       "      <td>46808732</td>\n",
       "    </tr>\n",
       "    <tr>\n",
       "      <th>1</th>\n",
       "      <td>Точка доступа №338</td>\n",
       "      <td>район Кузьминки</td>\n",
       "      <td>Государственное автономное учреждение культуры...</td>\n",
       "      <td>46808734</td>\n",
       "    </tr>\n",
       "  </tbody>\n",
       "</table>\n",
       "</div>"
      ],
      "text/plain": [
       "                 Name         District  \\\n",
       "0  Точка доступа №337  район Кузьминки   \n",
       "1  Точка доступа №338  район Кузьминки   \n",
       "\n",
       "                                            ParkName global_id  \n",
       "0  Государственное автономное учреждение культуры...  46808732  \n",
       "1  Государственное автономное учреждение культуры...  46808734  "
      ]
     },
     "execution_count": 8,
     "metadata": {},
     "output_type": "execute_result"
    }
   ],
   "source": [
    "# Отбираем необходимые поля\n",
    "df_parks = df_parks[['Name', 'District', 'ParkName', 'global_id']].drop_duplicates()\n",
    "print(df_parks.shape)\n",
    "df_parks.head(2)"
   ]
  },
  {
   "cell_type": "code",
   "execution_count": 9,
   "metadata": {},
   "outputs": [
    {
     "data": {
      "text/plain": [
       "Name         0\n",
       "District     0\n",
       "ParkName     0\n",
       "global_id    0\n",
       "dtype: int64"
      ]
     },
     "execution_count": 9,
     "metadata": {},
     "output_type": "execute_result"
    }
   ],
   "source": [
    "# Пропуски\n",
    "df_parks.isnull().sum()"
   ]
  },
  {
   "cell_type": "code",
   "execution_count": 15,
   "metadata": {},
   "outputs": [
    {
     "data": {
      "text/plain": [
       "(True, True)"
      ]
     },
     "execution_count": 15,
     "metadata": {},
     "output_type": "execute_result"
    }
   ],
   "source": [
    "# Проверяем, что global_id - идентификатор\n",
    "len(df['global_id'].unique()) == df.shape[0] , len(df_parks['global_id'].unique()) == df_parks.shape[0]"
   ]
  },
  {
   "cell_type": "code",
   "execution_count": 11,
   "metadata": {},
   "outputs": [
    {
     "data": {
      "text/html": [
       "<div>\n",
       "<style scoped>\n",
       "    .dataframe tbody tr th:only-of-type {\n",
       "        vertical-align: middle;\n",
       "    }\n",
       "\n",
       "    .dataframe tbody tr th {\n",
       "        vertical-align: top;\n",
       "    }\n",
       "\n",
       "    .dataframe thead th {\n",
       "        text-align: right;\n",
       "    }\n",
       "</style>\n",
       "<table border=\"1\" class=\"dataframe\">\n",
       "  <thead>\n",
       "    <tr style=\"text-align: right;\">\n",
       "      <th></th>\n",
       "      <th>AdmArea</th>\n",
       "      <th>District</th>\n",
       "      <th>Address</th>\n",
       "      <th>global_id</th>\n",
       "      <th>street</th>\n",
       "    </tr>\n",
       "  </thead>\n",
       "  <tbody>\n",
       "    <tr>\n",
       "      <th>0</th>\n",
       "      <td>Западный административный округ</td>\n",
       "      <td>район Кунцево</td>\n",
       "      <td>город Москва, улица Боженко, дом 9</td>\n",
       "      <td>879812827.0</td>\n",
       "      <td>улица Боженко</td>\n",
       "    </tr>\n",
       "    <tr>\n",
       "      <th>1</th>\n",
       "      <td>Западный административный округ</td>\n",
       "      <td>район Кунцево</td>\n",
       "      <td>город Москва, Полоцкая улица, дом 16</td>\n",
       "      <td>879812830.0</td>\n",
       "      <td>Полоцкая улица</td>\n",
       "    </tr>\n",
       "  </tbody>\n",
       "</table>\n",
       "</div>"
      ],
      "text/plain": [
       "                           AdmArea       District  \\\n",
       "0  Западный административный округ  район Кунцево   \n",
       "1  Западный административный округ  район Кунцево   \n",
       "\n",
       "                                Address    global_id           street  \n",
       "0    город Москва, улица Боженко, дом 9  879812827.0    улица Боженко  \n",
       "1  город Москва, Полоцкая улица, дом 16  879812830.0   Полоцкая улица  "
      ]
     },
     "execution_count": 11,
     "metadata": {},
     "output_type": "execute_result"
    }
   ],
   "source": [
    "#Сплитим улицу из шаблона адреса\n",
    "def split_address(row):\n",
    "    return row.split(',')[1]\n",
    "\n",
    "df['street'] = df['Address'].apply(lambda x: split_address(x))\n",
    "df.head(2)"
   ]
  },
  {
   "cell_type": "markdown",
   "metadata": {},
   "source": [
    "### Считаем топ-10 улиц по кол-ву wi-fi точек"
   ]
  },
  {
   "cell_type": "code",
   "execution_count": 12,
   "metadata": {},
   "outputs": [
    {
     "name": "stdout",
     "output_type": "stream",
     "text": [
      "Кол-во уникальных улиц - 415\n"
     ]
    }
   ],
   "source": [
    "print('Кол-во уникальных улиц -', len(df['street'].unique()))"
   ]
  },
  {
   "cell_type": "code",
   "execution_count": 13,
   "metadata": {},
   "outputs": [
    {
     "data": {
      "text/html": [
       "<div>\n",
       "<style scoped>\n",
       "    .dataframe tbody tr th:only-of-type {\n",
       "        vertical-align: middle;\n",
       "    }\n",
       "\n",
       "    .dataframe tbody tr th {\n",
       "        vertical-align: top;\n",
       "    }\n",
       "\n",
       "    .dataframe thead th {\n",
       "        text-align: right;\n",
       "    }\n",
       "</style>\n",
       "<table border=\"1\" class=\"dataframe\">\n",
       "  <thead>\n",
       "    <tr style=\"text-align: right;\">\n",
       "      <th></th>\n",
       "      <th>street</th>\n",
       "      <th>count</th>\n",
       "    </tr>\n",
       "  </thead>\n",
       "  <tbody>\n",
       "    <tr>\n",
       "      <th>272</th>\n",
       "      <td>город Зеленоград</td>\n",
       "      <td>17</td>\n",
       "    </tr>\n",
       "    <tr>\n",
       "      <th>82</th>\n",
       "      <td>Дмитровское шоссе</td>\n",
       "      <td>6</td>\n",
       "    </tr>\n",
       "    <tr>\n",
       "      <th>284</th>\n",
       "      <td>поселение Рязановское</td>\n",
       "      <td>5</td>\n",
       "    </tr>\n",
       "    <tr>\n",
       "      <th>108</th>\n",
       "      <td>Кастанаевская улица</td>\n",
       "      <td>5</td>\n",
       "    </tr>\n",
       "    <tr>\n",
       "      <th>64</th>\n",
       "      <td>Боровское шоссе</td>\n",
       "      <td>5</td>\n",
       "    </tr>\n",
       "    <tr>\n",
       "      <th>134</th>\n",
       "      <td>Лукинская улица</td>\n",
       "      <td>5</td>\n",
       "    </tr>\n",
       "    <tr>\n",
       "      <th>362</th>\n",
       "      <td>улица Маршала Катукова</td>\n",
       "      <td>5</td>\n",
       "    </tr>\n",
       "    <tr>\n",
       "      <th>198</th>\n",
       "      <td>Рублёвское шоссе</td>\n",
       "      <td>4</td>\n",
       "    </tr>\n",
       "    <tr>\n",
       "      <th>109</th>\n",
       "      <td>Каширское шоссе</td>\n",
       "      <td>4</td>\n",
       "    </tr>\n",
       "    <tr>\n",
       "      <th>380</th>\n",
       "      <td>улица Обручева</td>\n",
       "      <td>4</td>\n",
       "    </tr>\n",
       "  </tbody>\n",
       "</table>\n",
       "</div>"
      ],
      "text/plain": [
       "                      street  count\n",
       "272         город Зеленоград     17\n",
       "82         Дмитровское шоссе      6\n",
       "284    поселение Рязановское      5\n",
       "108      Кастанаевская улица      5\n",
       "64           Боровское шоссе      5\n",
       "134          Лукинская улица      5\n",
       "362   улица Маршала Катукова      5\n",
       "198         Рублёвское шоссе      4\n",
       "109          Каширское шоссе      4\n",
       "380           улица Обручева      4"
      ]
     },
     "execution_count": 13,
     "metadata": {},
     "output_type": "execute_result"
    }
   ],
   "source": [
    "# Выводим топ-10 улиц с большим кол-вом wi-fi точек\n",
    "df[['global_id', 'street']].groupby('street')\\\n",
    "                           .agg({'global_id':'count'})\\\n",
    "                           .rename(columns={'global_id':'count'})\\\n",
    "                           .reset_index()\\\n",
    "                           .sort_values('count', ascending=False)\\\n",
    "                           .head(10)"
   ]
  },
  {
   "cell_type": "markdown",
   "metadata": {},
   "source": [
    "### Считаем топ-10 парков по кол-ву wi-fi точек"
   ]
  },
  {
   "cell_type": "code",
   "execution_count": null,
   "metadata": {},
   "outputs": [],
   "source": [
    "# Отбираем необходимые поля\n",
    "print('Кол-во уникальных парков -', len(df_parks['ParkName'].unique()))"
   ]
  },
  {
   "cell_type": "code",
   "execution_count": 22,
   "metadata": {},
   "outputs": [
    {
     "data": {
      "text/html": [
       "<div>\n",
       "<style scoped>\n",
       "    .dataframe tbody tr th:only-of-type {\n",
       "        vertical-align: middle;\n",
       "    }\n",
       "\n",
       "    .dataframe tbody tr th {\n",
       "        vertical-align: top;\n",
       "    }\n",
       "\n",
       "    .dataframe thead th {\n",
       "        text-align: right;\n",
       "    }\n",
       "</style>\n",
       "<table border=\"1\" class=\"dataframe\">\n",
       "  <thead>\n",
       "    <tr style=\"text-align: right;\">\n",
       "      <th></th>\n",
       "      <th>ParkName</th>\n",
       "      <th>count</th>\n",
       "    </tr>\n",
       "  </thead>\n",
       "  <tbody>\n",
       "    <tr>\n",
       "      <th>21</th>\n",
       "      <td>Государственное автономное учреждение культуры города Москвы «Парк культуры и отдыха «Сокольники»</td>\n",
       "      <td>165</td>\n",
       "    </tr>\n",
       "    <tr>\n",
       "      <th>37</th>\n",
       "      <td>Государственное бюджетное учреждение культуры города Москвы «Московский государственный объединенный художественный историко-архитектурн...</td>\n",
       "      <td>121</td>\n",
       "    </tr>\n",
       "    <tr>\n",
       "      <th>8</th>\n",
       "      <td>Государственное автономное учреждение культуры города Москвы «Измайловский Парк культуры и отдыха»</td>\n",
       "      <td>120</td>\n",
       "    </tr>\n",
       "    <tr>\n",
       "      <th>1</th>\n",
       "      <td>Государственное автономное учреждение города Москвы «Московский государственный зоологический парк»</td>\n",
       "      <td>74</td>\n",
       "    </tr>\n",
       "    <tr>\n",
       "      <th>14</th>\n",
       "      <td>Государственное автономное учреждение культуры города Москвы «Музейно-парковый комплекс «Северное Тушино», зона отдыха «Левобережье»</td>\n",
       "      <td>51</td>\n",
       "    </tr>\n",
       "    <tr>\n",
       "      <th>32</th>\n",
       "      <td>Государственное автономное учреждение культуры города Москвы «Центральный парк культуры и отдыха имени М.Горького», Парк искусств «Музеон»</td>\n",
       "      <td>51</td>\n",
       "    </tr>\n",
       "    <tr>\n",
       "      <th>28</th>\n",
       "      <td>Государственное автономное учреждение культуры города Москвы «Поклонная гора»</td>\n",
       "      <td>50</td>\n",
       "    </tr>\n",
       "    <tr>\n",
       "      <th>19</th>\n",
       "      <td>Государственное автономное учреждение культуры города Москвы «Парк культуры и отдыха «Красная Пресня»</td>\n",
       "      <td>49</td>\n",
       "    </tr>\n",
       "    <tr>\n",
       "      <th>9</th>\n",
       "      <td>Государственное автономное учреждение культуры города Москвы «Лианозовский парк культуры и отдыха»</td>\n",
       "      <td>49</td>\n",
       "    </tr>\n",
       "    <tr>\n",
       "      <th>16</th>\n",
       "      <td>Государственное автономное учреждение культуры города Москвы «Музейно-парковый комплекс «Северное Тушино», парк «Северное Тушино»</td>\n",
       "      <td>49</td>\n",
       "    </tr>\n",
       "  </tbody>\n",
       "</table>\n",
       "</div>"
      ],
      "text/plain": [
       "                                                                                                                                       ParkName  \\\n",
       "21                                            Государственное автономное учреждение культуры города Москвы «Парк культуры и отдыха «Сокольники»   \n",
       "37  Государственное бюджетное учреждение культуры города Москвы «Московский государственный объединенный художественный историко-архитектурн...   \n",
       "8                                            Государственное автономное учреждение культуры города Москвы «Измайловский Парк культуры и отдыха»   \n",
       "1                                           Государственное автономное учреждение города Москвы «Московский государственный зоологический парк»   \n",
       "14         Государственное автономное учреждение культуры города Москвы «Музейно-парковый комплекс «Северное Тушино», зона отдыха «Левобережье»   \n",
       "32   Государственное автономное учреждение культуры города Москвы «Центральный парк культуры и отдыха имени М.Горького», Парк искусств «Музеон»   \n",
       "28                                                                Государственное автономное учреждение культуры города Москвы «Поклонная гора»   \n",
       "19                                        Государственное автономное учреждение культуры города Москвы «Парк культуры и отдыха «Красная Пресня»   \n",
       "9                                            Государственное автономное учреждение культуры города Москвы «Лианозовский парк культуры и отдыха»   \n",
       "16            Государственное автономное учреждение культуры города Москвы «Музейно-парковый комплекс «Северное Тушино», парк «Северное Тушино»   \n",
       "\n",
       "    count  \n",
       "21    165  \n",
       "37    121  \n",
       "8     120  \n",
       "1      74  \n",
       "14     51  \n",
       "32     51  \n",
       "28     50  \n",
       "19     49  \n",
       "9      49  \n",
       "16     49  "
      ]
     },
     "execution_count": 22,
     "metadata": {},
     "output_type": "execute_result"
    }
   ],
   "source": [
    "# Выводим топ-10 парков с большим кол-вом wi-fi точек\n",
    "pd.set_option('display.max_colwidth', 140)\n",
    "df_parks[['global_id', 'ParkName']].groupby('ParkName')\\\n",
    "                           .agg({'global_id':'count'})\\\n",
    "                           .rename(columns={'global_id':'count'})\\\n",
    "                           .reset_index()\\\n",
    "                           .sort_values('count', ascending=False)\\\n",
    "                           .head(10)"
   ]
  },
  {
   "cell_type": "markdown",
   "metadata": {},
   "source": [
    "## Задача - 2. Статистика оказаний услуг"
   ]
  },
  {
   "cell_type": "markdown",
   "metadata": {},
   "source": [
    "Есть таблица, в которой записаны услуги пациента в больнице: кто, где, когда, какая услуга. Напишите SQL-запрос, который выведет топ 10 самых популярных услуг с указанием количества оказаний. Пример таблицы ниже:"
   ]
  },
  {
   "cell_type": "markdown",
   "metadata": {},
   "source": [
    "| WHO  | WHERE  | WHEN   | SERVICE   |\n",
    "|------|--------|--------|-----------|\n",
    "|Ivanov| Moscow |1-1-2020| operation |"
   ]
  },
  {
   "cell_type": "code",
   "execution_count": 24,
   "metadata": {},
   "outputs": [],
   "source": [
    "# Пример запроса\n",
    "query = \"\"\"\n",
    "SELECT TOP (10) SERVICE, COUNT(*) AS CNT_SERVICE\n",
    "FROM TABLE\n",
    "GROUP BY SERVICE\n",
    "ORDER BY CNT_SERVICE DESC\n",
    "\"\"\""
   ]
  },
  {
   "cell_type": "markdown",
   "metadata": {},
   "source": [
    "## Задача - 3. Обновление Python"
   ]
  },
  {
   "cell_type": "markdown",
   "metadata": {},
   "source": [
    "python3 -V у вас выдаёт 3.7, вы хотите обновиться до 3.8. У вас Убунту или Макось. Как вы будете это делать?"
   ]
  },
  {
   "cell_type": "code",
   "execution_count": 25,
   "metadata": {},
   "outputs": [
    {
     "name": "stdout",
     "output_type": "stream",
     "text": [
      "Python 3.7.4\n"
     ]
    }
   ],
   "source": [
    "! python3 --version"
   ]
  },
  {
   "cell_type": "markdown",
   "metadata": {},
   "source": [
    "----------"
   ]
  },
  {
   "cell_type": "markdown",
   "metadata": {},
   "source": [
    "При помощи командной строки <br />\n",
    "*! brew install python3*"
   ]
  },
  {
   "cell_type": "markdown",
   "metadata": {},
   "source": [
    "--------"
   ]
  },
  {
   "cell_type": "markdown",
   "metadata": {},
   "source": [
    "Либо скачать и установить c ресурса <br />\n",
    "*https://www.python.org/downloads/*"
   ]
  }
 ],
 "metadata": {
  "kernelspec": {
   "display_name": "Python 3",
   "language": "python",
   "name": "python3"
  },
  "language_info": {
   "codemirror_mode": {
    "name": "ipython",
    "version": 3
   },
   "file_extension": ".py",
   "mimetype": "text/x-python",
   "name": "python",
   "nbconvert_exporter": "python",
   "pygments_lexer": "ipython3",
   "version": "3.7.4"
  }
 },
 "nbformat": 4,
 "nbformat_minor": 4
}
